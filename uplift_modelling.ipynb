{
 "cells": [
  {
   "cell_type": "markdown",
   "source": [
    "### 🧭 Cell 1 — 数据加载与实验总体框架说明\n",
    "\n",
    "本 Notebook 旨在通过 **uplift 建模（异质性因果效应分析）** 方法，探究酒店押金策略（`deposit_type`）对客户取消行为（`is_canceled`）的真实影响。\n",
    "研究目标是回答以下核心问题：\n",
    "\n",
    "> 💡 “押金是否真的能降低取消率？\n",
    "> 或者，不同客户群体对押金的敏感程度是否存在显著差异？”\n",
    "\n",
    "#### 📘 分析思路总览\n",
    "\n",
    "1. **数据加载与清洗**：读取并初步审查 `hotel_bookings.csv` 数据集结构（共 32 列、约 12 万条样本）。\n",
    "2. **实验构造**：\n",
    "\n",
    "   * 定义「押金 vs 无押金」为 treatment 变量；\n",
    "   * 定义取消（`is_canceled=1`）为目标行为。\n",
    "3. **样本平衡**：\n",
    "\n",
    "   * 通过 **倾向得分 (Propensity Score)** 与 **逆概率加权 (IPW)** 消除自选择偏差；\n",
    "   * 确保两组客户在基础特征上可比。\n",
    "4. **双模型训练（T-Learner）**：\n",
    "\n",
    "   * 训练两套加权模型 `f1`（有押金）与 `f0`（无押金）；\n",
    "   * 分别预测每个客户在两种情景下的取消概率。\n",
    "5. **uplift 估计与策略洞察**：\n",
    "\n",
    "   * uplift = `f1(X)` − `f0(X)` 表示押金的边际影响；\n",
    "   * 分析 uplift 分布，识别「押金敏感型客户」与「押金无感型客户」；\n",
    "   * 基于结果制定押金差异化策略与心理行为解释。\n",
    "\n",
    "#### 🧩 数据集简介\n",
    "\n",
    "* **文件路径**：`./archive_8/hotel_bookings.csv`\n",
    "* **样本规模**：119,390 条预订记录\n",
    "* **主要字段**：\n",
    "\n",
    "  * `deposit_type`：押金类型（No Deposit / Non Refund / Refundable）\n",
    "  * `is_canceled`：是否取消（0/1）\n",
    "  * `lead_time`：提前预订天数\n",
    "  * `customer_type`、`market_segment`、`special_requests` 等用于控制样本异质性\n",
    "\n",
    "通过本 Notebook，我们将展示一个从 **A/B 因果推断 → uplift 建模 → 反直觉策略结论** 的完整流程。\n"
   ],
   "metadata": {
    "collapsed": false
   },
   "id": "b43f116fe49a395b"
  },
  {
   "cell_type": "code",
   "execution_count": 84,
   "id": "initial_id",
   "metadata": {
    "collapsed": true,
    "ExecuteTime": {
     "end_time": "2025-10-29T18:45:08.870653500Z",
     "start_time": "2025-10-29T18:45:08.649472200Z"
    }
   },
   "outputs": [
    {
     "name": "stdout",
     "output_type": "stream",
     "text": [
      "Shape: (119390, 32)\n",
      "Columns: ['hotel', 'is_canceled', 'lead_time', 'arrival_date_year', 'arrival_date_month', 'arrival_date_week_number', 'arrival_date_day_of_month', 'stays_in_weekend_nights', 'stays_in_week_nights', 'adults', 'children', 'babies', 'meal', 'country', 'market_segment', 'distribution_channel', 'is_repeated_guest', 'previous_cancellations', 'previous_bookings_not_canceled', 'reserved_room_type', 'assigned_room_type', 'booking_changes', 'deposit_type', 'agent', 'company', 'days_in_waiting_list', 'customer_type', 'adr', 'required_car_parking_spaces', 'total_of_special_requests', 'reservation_status', 'reservation_status_date'] ...\n"
     ]
    },
    {
     "data": {
      "text/plain": "          hotel  is_canceled  lead_time  arrival_date_year arrival_date_month  \\\n0  Resort Hotel            0        342               2015               July   \n1  Resort Hotel            0        737               2015               July   \n2  Resort Hotel            0          7               2015               July   \n\n   arrival_date_week_number  arrival_date_day_of_month  \\\n0                        27                          1   \n1                        27                          1   \n2                        27                          1   \n\n   stays_in_weekend_nights  stays_in_week_nights  adults  ...  deposit_type  \\\n0                        0                     0       2  ...    No Deposit   \n1                        0                     0       2  ...    No Deposit   \n2                        0                     1       1  ...    No Deposit   \n\n   agent company days_in_waiting_list customer_type   adr  \\\n0    NaN     NaN                    0     Transient   0.0   \n1    NaN     NaN                    0     Transient   0.0   \n2    NaN     NaN                    0     Transient  75.0   \n\n   required_car_parking_spaces  total_of_special_requests  reservation_status  \\\n0                            0                          0           Check-Out   \n1                            0                          0           Check-Out   \n2                            0                          0           Check-Out   \n\n  reservation_status_date  \n0              2015-07-01  \n1              2015-07-01  \n2              2015-07-02  \n\n[3 rows x 32 columns]",
      "text/html": "<div>\n<style scoped>\n    .dataframe tbody tr th:only-of-type {\n        vertical-align: middle;\n    }\n\n    .dataframe tbody tr th {\n        vertical-align: top;\n    }\n\n    .dataframe thead th {\n        text-align: right;\n    }\n</style>\n<table border=\"1\" class=\"dataframe\">\n  <thead>\n    <tr style=\"text-align: right;\">\n      <th></th>\n      <th>hotel</th>\n      <th>is_canceled</th>\n      <th>lead_time</th>\n      <th>arrival_date_year</th>\n      <th>arrival_date_month</th>\n      <th>arrival_date_week_number</th>\n      <th>arrival_date_day_of_month</th>\n      <th>stays_in_weekend_nights</th>\n      <th>stays_in_week_nights</th>\n      <th>adults</th>\n      <th>...</th>\n      <th>deposit_type</th>\n      <th>agent</th>\n      <th>company</th>\n      <th>days_in_waiting_list</th>\n      <th>customer_type</th>\n      <th>adr</th>\n      <th>required_car_parking_spaces</th>\n      <th>total_of_special_requests</th>\n      <th>reservation_status</th>\n      <th>reservation_status_date</th>\n    </tr>\n  </thead>\n  <tbody>\n    <tr>\n      <th>0</th>\n      <td>Resort Hotel</td>\n      <td>0</td>\n      <td>342</td>\n      <td>2015</td>\n      <td>July</td>\n      <td>27</td>\n      <td>1</td>\n      <td>0</td>\n      <td>0</td>\n      <td>2</td>\n      <td>...</td>\n      <td>No Deposit</td>\n      <td>NaN</td>\n      <td>NaN</td>\n      <td>0</td>\n      <td>Transient</td>\n      <td>0.0</td>\n      <td>0</td>\n      <td>0</td>\n      <td>Check-Out</td>\n      <td>2015-07-01</td>\n    </tr>\n    <tr>\n      <th>1</th>\n      <td>Resort Hotel</td>\n      <td>0</td>\n      <td>737</td>\n      <td>2015</td>\n      <td>July</td>\n      <td>27</td>\n      <td>1</td>\n      <td>0</td>\n      <td>0</td>\n      <td>2</td>\n      <td>...</td>\n      <td>No Deposit</td>\n      <td>NaN</td>\n      <td>NaN</td>\n      <td>0</td>\n      <td>Transient</td>\n      <td>0.0</td>\n      <td>0</td>\n      <td>0</td>\n      <td>Check-Out</td>\n      <td>2015-07-01</td>\n    </tr>\n    <tr>\n      <th>2</th>\n      <td>Resort Hotel</td>\n      <td>0</td>\n      <td>7</td>\n      <td>2015</td>\n      <td>July</td>\n      <td>27</td>\n      <td>1</td>\n      <td>0</td>\n      <td>1</td>\n      <td>1</td>\n      <td>...</td>\n      <td>No Deposit</td>\n      <td>NaN</td>\n      <td>NaN</td>\n      <td>0</td>\n      <td>Transient</td>\n      <td>75.0</td>\n      <td>0</td>\n      <td>0</td>\n      <td>Check-Out</td>\n      <td>2015-07-02</td>\n    </tr>\n  </tbody>\n</table>\n<p>3 rows × 32 columns</p>\n</div>"
     },
     "execution_count": 84,
     "metadata": {},
     "output_type": "execute_result"
    }
   ],
   "source": [
    "# Cell 1 — 基础环境与数据加载\n",
    "import pandas as pd\n",
    "import numpy as np\n",
    "import matplotlib.pyplot as plt\n",
    "import seaborn as sns\n",
    "import warnings\n",
    "from pylab import mpl, plt\n",
    "import json\n",
    "import os\n",
    "\n",
    "# best font and style settings for notebook \n",
    "warnings.filterwarnings('ignore')\n",
    "mpl.rcParams['font.family'] = 'MiSans'  # 若报字体找不到，可注释掉\n",
    "\n",
    "# 路径：按你本地为准\n",
    "DATA_PATH = \"./archive_8/hotel_bookings.csv\"\n",
    "assert os.path.exists(DATA_PATH), f\"File not found: {DATA_PATH}\"\n",
    "\n",
    "df = pd.read_csv(DATA_PATH)\n",
    "\n",
    "print(\"Shape:\", df.shape)\n",
    "print(\"Columns:\", df.columns.tolist()[:], \"...\")  # 先看一部分\n",
    "df.head(3)\n"
   ]
  },
  {
   "cell_type": "code",
   "outputs": [
    {
     "name": "stdout",
     "output_type": "stream",
     "text": [
      "  deposit_type  treatment  target\n",
      "0   No Deposit          0       0\n",
      "1   No Deposit          0       0\n",
      "2   No Deposit          0       0\n",
      "3   No Deposit          0       0\n",
      "4   No Deposit          0       0\n",
      "treatment\n",
      "0    0.876464\n",
      "1    0.123536\n",
      "Name: proportion, dtype: float64\n"
     ]
    }
   ],
   "source": [
    "# Cell 1 — 构造 A/B 实验变量\n",
    "df_ab = df.copy()\n",
    "\n",
    "# 举例：以押金策略为“实验”\n",
    "df_ab[\"treatment\"] = (df_ab[\"deposit_type\"] != \"No Deposit\").astype(int)\n",
    "\n",
    "# Target: 取消=1\n",
    "df_ab[\"target\"] = df_ab[\"is_canceled\"].astype(int)\n",
    "\n",
    "print(df_ab[[\"deposit_type\", \"treatment\", \"target\"]].head())\n",
    "print(df_ab[\"treatment\"].value_counts(normalize=True))\n"
   ],
   "metadata": {
    "collapsed": false,
    "ExecuteTime": {
     "end_time": "2025-10-29T18:45:08.933483Z",
     "start_time": "2025-10-29T18:45:08.874669200Z"
    }
   },
   "id": "4cc8a693e3f1f6ef",
   "execution_count": 85
  },
  {
   "cell_type": "code",
   "outputs": [
    {
     "name": "stdout",
     "output_type": "stream",
     "text": [
      "Baseline Cancel Rate (Control): 0.2838\n",
      "Cancel Rate (Treatment): 0.9852\n",
      "ATE (Raw uplift): 0.7014\n"
     ]
    }
   ],
   "source": [
    "# Cell 2 — 基本AB检验\n",
    "control = df_ab.loc[df_ab.treatment == 0, \"target\"]\n",
    "treat = df_ab.loc[df_ab.treatment == 1, \"target\"]\n",
    "\n",
    "uplift_mean = treat.mean() - control.mean()\n",
    "print(f\"Baseline Cancel Rate (Control): {control.mean():.4f}\")\n",
    "print(f\"Cancel Rate (Treatment): {treat.mean():.4f}\")\n",
    "print(f\"ATE (Raw uplift): {uplift_mean:.4f}\")\n"
   ],
   "metadata": {
    "collapsed": false,
    "ExecuteTime": {
     "end_time": "2025-10-29T18:45:08.950482100Z",
     "start_time": "2025-10-29T18:45:08.904355400Z"
    }
   },
   "id": "f354088a77e59b8",
   "execution_count": 86
  },
  {
   "cell_type": "code",
   "outputs": [],
   "source": [
    "# Cell 3 — 特征准备\n",
    "cols = [\"hotel\", \"market_segment\", \"lead_time\", \"previous_cancellations\", \"booking_changes\",\n",
    "        \"total_of_special_requests\", \"days_in_waiting_list\"]\n",
    "X = pd.get_dummies(df_ab[cols], drop_first=True)\n",
    "y = df_ab[\"target\"]\n",
    "t = df_ab[\"treatment\"]\n"
   ],
   "metadata": {
    "collapsed": false,
    "ExecuteTime": {
     "end_time": "2025-10-29T18:45:08.976069300Z",
     "start_time": "2025-10-29T18:45:08.920954300Z"
    }
   },
   "id": "e4fae5b0e89a48f8",
   "execution_count": 87
  },
  {
   "cell_type": "markdown",
   "source": [
    "## 真正执行 Propensity Matching"
   ],
   "metadata": {
    "collapsed": false
   },
   "id": "b4699b85699ecbd4"
  },
  {
   "cell_type": "code",
   "outputs": [],
   "source": [
    "# from sklearn.neighbors import NearestNeighbors\n",
    "# \n",
    "# treated_idx = df_ab[df_ab.treatment == 1].index\n",
    "# control_idx = df_ab[df_ab.treatment == 0].index\n",
    "# \n",
    "# # 基于倾向得分做最近邻匹配\n",
    "# nbrs = NearestNeighbors(n_neighbors=1).fit(ps[control_idx].values.reshape(-1,1))\n",
    "# distances, indices = nbrs.kneighbors(ps[treated_idx].values.reshape(-1,1))\n",
    "# matched_control_idx = control_idx[indices.flatten()]\n",
    "# \n",
    "# matched_idx = np.concatenate([treated_idx, matched_control_idx])\n",
    "# df_matched = df_ab.loc[matched_idx]\n",
    "# \n",
    "# # 用匹配后样本训练 f1, f0\n",
    "# f1.fit(X.loc[treated_idx], y.loc[treated_idx])\n",
    "# f0.fit(X.loc[matched_control_idx], y.loc[matched_control_idx])\n"
   ],
   "metadata": {
    "collapsed": false,
    "ExecuteTime": {
     "end_time": "2025-10-29T18:45:08.978069200Z",
     "start_time": "2025-10-29T18:45:08.950482100Z"
    }
   },
   "id": "a669399631f09c6e",
   "execution_count": 88
  },
  {
   "cell_type": "markdown",
   "source": [
    "## 不平衡样本"
   ],
   "metadata": {
    "collapsed": false
   },
   "id": "796565632138839c"
  },
  {
   "cell_type": "code",
   "outputs": [],
   "source": [
    "# # Cell 4 — 训练两套模型\n",
    "# from sklearn.ensemble import GradientBoostingClassifier\n",
    "# \n",
    "# f1 = GradientBoostingClassifier(random_state=42)\n",
    "# f0 = GradientBoostingClassifier(random_state=42)\n",
    "# \n",
    "# f1.fit(X[t == 1], y[t == 1])\n",
    "# f0.fit(X[t == 0], y[t == 0])\n"
   ],
   "metadata": {
    "collapsed": false,
    "ExecuteTime": {
     "end_time": "2025-10-29T18:45:08.994227400Z",
     "start_time": "2025-10-29T18:45:08.967069500Z"
    }
   },
   "id": "697a233d2ed15880",
   "execution_count": 89
  },
  {
   "cell_type": "markdown",
   "source": [
    "## 使用 Inverse Probability Weighting (IPW)"
   ],
   "metadata": {
    "collapsed": false
   },
   "id": "1ba5c51e0448792"
  },
  {
   "cell_type": "code",
   "outputs": [],
   "source": [
    "# Cell 3.5 — Propensity Score Estimation\n",
    "from sklearn.linear_model import LogisticRegression\n",
    "\n",
    "ps_model = LogisticRegression(max_iter=200)\n",
    "ps_model.fit(X, t)\n",
    "df_ab[\"propensity\"] = ps_model.predict_proba(X)[:, 1]\n",
    "\n",
    "# Cell 3.6 — Inverse Probability Weighting (IPW)\n",
    "ps = df_ab[\"propensity\"].clip(0.01, 0.99)\n",
    "w_treat = 1 / ps\n",
    "w_ctrl = 1 / (1 - ps)\n",
    "\n",
    "# 标准化权重（推荐）\n",
    "w_treat /= np.mean(w_treat[t == 1])\n",
    "w_ctrl /= np.mean(w_ctrl[t == 0])\n"
   ],
   "metadata": {
    "collapsed": false,
    "ExecuteTime": {
     "end_time": "2025-10-29T18:45:09.889468500Z",
     "start_time": "2025-10-29T18:45:08.985590100Z"
    }
   },
   "id": "a3bb6dd232a5f818",
   "execution_count": 90
  },
  {
   "cell_type": "markdown",
   "source": [
    "### 🧩 Cell 4 — Weighted Model Training（加权双模型训练说明）\n",
    "\n",
    "在这一单元中，我们训练两套独立的模型 `f1` 与 `f0`，分别用于估计个体在**有押金（treatment=1）**与**无押金（treatment=0）**情况下的取消概率。\n",
    "#### 🎯 目的\n",
    "\n",
    "* 建立**个体化反事实预测（individual counterfactual prediction）**；\n",
    "* 用来计算每个客户的 uplift：\n",
    "  $$\n",
    "  \\text{uplift} = P(\\text{cancel} | \\text{押金}) - P(\\text{cancel} | \\text{无押金})\n",
    "  $$\n",
    "#### ⚖️ 方法与加权逻辑\n",
    "\n",
    "1. **f₁ 模型（treatment group）**\n",
    "\n",
    "   * 在押金客户子集上训练；\n",
    "   * 使用 `w_treat` 作为样本权重。\n",
    "   * 权重来源于倾向得分逆概率加权 (IPW)，确保样本在特征空间上与对照组分布一致。\n",
    "2. **f₀ 模型（control group）**\n",
    "\n",
    "   * 在无押金客户子集上训练；\n",
    "   * 使用 `w_ctrl` 作为样本权重。\n",
    "   * 同样通过 IPW 调整，使模型学习到“如果这些样本在 treatment 状态下会如何表现”。\n",
    "#### 🔍 模型配置\n",
    "使用 **Gradient Boosting Classifier**（梯度提升分类器）：\n",
    "* `n_estimators=200` → 控制弱学习器数量，保证模型复杂度；\n",
    "* `learning_rate=0.05` → 防止过拟合；\n",
    "* `max_depth=4` → 限制单棵树的深度；\n",
    "* `random_state=42` → 保证可复现性。\n"
   ],
   "metadata": {
    "collapsed": false
   },
   "id": "729a0d316a80892b"
  },
  {
   "cell_type": "code",
   "outputs": [
    {
     "data": {
      "text/plain": "GradientBoostingClassifier(learning_rate=0.05, max_depth=4, n_estimators=200,\n                           random_state=42)",
      "text/html": "<style>#sk-container-id-4 {\n  /* Definition of color scheme common for light and dark mode */\n  --sklearn-color-text: #000;\n  --sklearn-color-text-muted: #666;\n  --sklearn-color-line: gray;\n  /* Definition of color scheme for unfitted estimators */\n  --sklearn-color-unfitted-level-0: #fff5e6;\n  --sklearn-color-unfitted-level-1: #f6e4d2;\n  --sklearn-color-unfitted-level-2: #ffe0b3;\n  --sklearn-color-unfitted-level-3: chocolate;\n  /* Definition of color scheme for fitted estimators */\n  --sklearn-color-fitted-level-0: #f0f8ff;\n  --sklearn-color-fitted-level-1: #d4ebff;\n  --sklearn-color-fitted-level-2: #b3dbfd;\n  --sklearn-color-fitted-level-3: cornflowerblue;\n\n  /* Specific color for light theme */\n  --sklearn-color-text-on-default-background: var(--sg-text-color, var(--theme-code-foreground, var(--jp-content-font-color1, black)));\n  --sklearn-color-background: var(--sg-background-color, var(--theme-background, var(--jp-layout-color0, white)));\n  --sklearn-color-border-box: var(--sg-text-color, var(--theme-code-foreground, var(--jp-content-font-color1, black)));\n  --sklearn-color-icon: #696969;\n\n  @media (prefers-color-scheme: dark) {\n    /* Redefinition of color scheme for dark theme */\n    --sklearn-color-text-on-default-background: var(--sg-text-color, var(--theme-code-foreground, var(--jp-content-font-color1, white)));\n    --sklearn-color-background: var(--sg-background-color, var(--theme-background, var(--jp-layout-color0, #111)));\n    --sklearn-color-border-box: var(--sg-text-color, var(--theme-code-foreground, var(--jp-content-font-color1, white)));\n    --sklearn-color-icon: #878787;\n  }\n}\n\n#sk-container-id-4 {\n  color: var(--sklearn-color-text);\n}\n\n#sk-container-id-4 pre {\n  padding: 0;\n}\n\n#sk-container-id-4 input.sk-hidden--visually {\n  border: 0;\n  clip: rect(1px 1px 1px 1px);\n  clip: rect(1px, 1px, 1px, 1px);\n  height: 1px;\n  margin: -1px;\n  overflow: hidden;\n  padding: 0;\n  position: absolute;\n  width: 1px;\n}\n\n#sk-container-id-4 div.sk-dashed-wrapped {\n  border: 1px dashed var(--sklearn-color-line);\n  margin: 0 0.4em 0.5em 0.4em;\n  box-sizing: border-box;\n  padding-bottom: 0.4em;\n  background-color: var(--sklearn-color-background);\n}\n\n#sk-container-id-4 div.sk-container {\n  /* jupyter's `normalize.less` sets `[hidden] { display: none; }`\n     but bootstrap.min.css set `[hidden] { display: none !important; }`\n     so we also need the `!important` here to be able to override the\n     default hidden behavior on the sphinx rendered scikit-learn.org.\n     See: https://github.com/scikit-learn/scikit-learn/issues/21755 */\n  display: inline-block !important;\n  position: relative;\n}\n\n#sk-container-id-4 div.sk-text-repr-fallback {\n  display: none;\n}\n\ndiv.sk-parallel-item,\ndiv.sk-serial,\ndiv.sk-item {\n  /* draw centered vertical line to link estimators */\n  background-image: linear-gradient(var(--sklearn-color-text-on-default-background), var(--sklearn-color-text-on-default-background));\n  background-size: 2px 100%;\n  background-repeat: no-repeat;\n  background-position: center center;\n}\n\n/* Parallel-specific style estimator block */\n\n#sk-container-id-4 div.sk-parallel-item::after {\n  content: \"\";\n  width: 100%;\n  border-bottom: 2px solid var(--sklearn-color-text-on-default-background);\n  flex-grow: 1;\n}\n\n#sk-container-id-4 div.sk-parallel {\n  display: flex;\n  align-items: stretch;\n  justify-content: center;\n  background-color: var(--sklearn-color-background);\n  position: relative;\n}\n\n#sk-container-id-4 div.sk-parallel-item {\n  display: flex;\n  flex-direction: column;\n}\n\n#sk-container-id-4 div.sk-parallel-item:first-child::after {\n  align-self: flex-end;\n  width: 50%;\n}\n\n#sk-container-id-4 div.sk-parallel-item:last-child::after {\n  align-self: flex-start;\n  width: 50%;\n}\n\n#sk-container-id-4 div.sk-parallel-item:only-child::after {\n  width: 0;\n}\n\n/* Serial-specific style estimator block */\n\n#sk-container-id-4 div.sk-serial {\n  display: flex;\n  flex-direction: column;\n  align-items: center;\n  background-color: var(--sklearn-color-background);\n  padding-right: 1em;\n  padding-left: 1em;\n}\n\n\n/* Toggleable style: style used for estimator/Pipeline/ColumnTransformer box that is\nclickable and can be expanded/collapsed.\n- Pipeline and ColumnTransformer use this feature and define the default style\n- Estimators will overwrite some part of the style using the `sk-estimator` class\n*/\n\n/* Pipeline and ColumnTransformer style (default) */\n\n#sk-container-id-4 div.sk-toggleable {\n  /* Default theme specific background. It is overwritten whether we have a\n  specific estimator or a Pipeline/ColumnTransformer */\n  background-color: var(--sklearn-color-background);\n}\n\n/* Toggleable label */\n#sk-container-id-4 label.sk-toggleable__label {\n  cursor: pointer;\n  display: flex;\n  width: 100%;\n  margin-bottom: 0;\n  padding: 0.5em;\n  box-sizing: border-box;\n  text-align: center;\n  align-items: start;\n  justify-content: space-between;\n  gap: 0.5em;\n}\n\n#sk-container-id-4 label.sk-toggleable__label .caption {\n  font-size: 0.6rem;\n  font-weight: lighter;\n  color: var(--sklearn-color-text-muted);\n}\n\n#sk-container-id-4 label.sk-toggleable__label-arrow:before {\n  /* Arrow on the left of the label */\n  content: \"▸\";\n  float: left;\n  margin-right: 0.25em;\n  color: var(--sklearn-color-icon);\n}\n\n#sk-container-id-4 label.sk-toggleable__label-arrow:hover:before {\n  color: var(--sklearn-color-text);\n}\n\n/* Toggleable content - dropdown */\n\n#sk-container-id-4 div.sk-toggleable__content {\n  max-height: 0;\n  max-width: 0;\n  overflow: hidden;\n  text-align: left;\n  /* unfitted */\n  background-color: var(--sklearn-color-unfitted-level-0);\n}\n\n#sk-container-id-4 div.sk-toggleable__content.fitted {\n  /* fitted */\n  background-color: var(--sklearn-color-fitted-level-0);\n}\n\n#sk-container-id-4 div.sk-toggleable__content pre {\n  margin: 0.2em;\n  border-radius: 0.25em;\n  color: var(--sklearn-color-text);\n  /* unfitted */\n  background-color: var(--sklearn-color-unfitted-level-0);\n}\n\n#sk-container-id-4 div.sk-toggleable__content.fitted pre {\n  /* unfitted */\n  background-color: var(--sklearn-color-fitted-level-0);\n}\n\n#sk-container-id-4 input.sk-toggleable__control:checked~div.sk-toggleable__content {\n  /* Expand drop-down */\n  max-height: 200px;\n  max-width: 100%;\n  overflow: auto;\n}\n\n#sk-container-id-4 input.sk-toggleable__control:checked~label.sk-toggleable__label-arrow:before {\n  content: \"▾\";\n}\n\n/* Pipeline/ColumnTransformer-specific style */\n\n#sk-container-id-4 div.sk-label input.sk-toggleable__control:checked~label.sk-toggleable__label {\n  color: var(--sklearn-color-text);\n  background-color: var(--sklearn-color-unfitted-level-2);\n}\n\n#sk-container-id-4 div.sk-label.fitted input.sk-toggleable__control:checked~label.sk-toggleable__label {\n  background-color: var(--sklearn-color-fitted-level-2);\n}\n\n/* Estimator-specific style */\n\n/* Colorize estimator box */\n#sk-container-id-4 div.sk-estimator input.sk-toggleable__control:checked~label.sk-toggleable__label {\n  /* unfitted */\n  background-color: var(--sklearn-color-unfitted-level-2);\n}\n\n#sk-container-id-4 div.sk-estimator.fitted input.sk-toggleable__control:checked~label.sk-toggleable__label {\n  /* fitted */\n  background-color: var(--sklearn-color-fitted-level-2);\n}\n\n#sk-container-id-4 div.sk-label label.sk-toggleable__label,\n#sk-container-id-4 div.sk-label label {\n  /* The background is the default theme color */\n  color: var(--sklearn-color-text-on-default-background);\n}\n\n/* On hover, darken the color of the background */\n#sk-container-id-4 div.sk-label:hover label.sk-toggleable__label {\n  color: var(--sklearn-color-text);\n  background-color: var(--sklearn-color-unfitted-level-2);\n}\n\n/* Label box, darken color on hover, fitted */\n#sk-container-id-4 div.sk-label.fitted:hover label.sk-toggleable__label.fitted {\n  color: var(--sklearn-color-text);\n  background-color: var(--sklearn-color-fitted-level-2);\n}\n\n/* Estimator label */\n\n#sk-container-id-4 div.sk-label label {\n  font-family: monospace;\n  font-weight: bold;\n  display: inline-block;\n  line-height: 1.2em;\n}\n\n#sk-container-id-4 div.sk-label-container {\n  text-align: center;\n}\n\n/* Estimator-specific */\n#sk-container-id-4 div.sk-estimator {\n  font-family: monospace;\n  border: 1px dotted var(--sklearn-color-border-box);\n  border-radius: 0.25em;\n  box-sizing: border-box;\n  margin-bottom: 0.5em;\n  /* unfitted */\n  background-color: var(--sklearn-color-unfitted-level-0);\n}\n\n#sk-container-id-4 div.sk-estimator.fitted {\n  /* fitted */\n  background-color: var(--sklearn-color-fitted-level-0);\n}\n\n/* on hover */\n#sk-container-id-4 div.sk-estimator:hover {\n  /* unfitted */\n  background-color: var(--sklearn-color-unfitted-level-2);\n}\n\n#sk-container-id-4 div.sk-estimator.fitted:hover {\n  /* fitted */\n  background-color: var(--sklearn-color-fitted-level-2);\n}\n\n/* Specification for estimator info (e.g. \"i\" and \"?\") */\n\n/* Common style for \"i\" and \"?\" */\n\n.sk-estimator-doc-link,\na:link.sk-estimator-doc-link,\na:visited.sk-estimator-doc-link {\n  float: right;\n  font-size: smaller;\n  line-height: 1em;\n  font-family: monospace;\n  background-color: var(--sklearn-color-background);\n  border-radius: 1em;\n  height: 1em;\n  width: 1em;\n  text-decoration: none !important;\n  margin-left: 0.5em;\n  text-align: center;\n  /* unfitted */\n  border: var(--sklearn-color-unfitted-level-1) 1pt solid;\n  color: var(--sklearn-color-unfitted-level-1);\n}\n\n.sk-estimator-doc-link.fitted,\na:link.sk-estimator-doc-link.fitted,\na:visited.sk-estimator-doc-link.fitted {\n  /* fitted */\n  border: var(--sklearn-color-fitted-level-1) 1pt solid;\n  color: var(--sklearn-color-fitted-level-1);\n}\n\n/* On hover */\ndiv.sk-estimator:hover .sk-estimator-doc-link:hover,\n.sk-estimator-doc-link:hover,\ndiv.sk-label-container:hover .sk-estimator-doc-link:hover,\n.sk-estimator-doc-link:hover {\n  /* unfitted */\n  background-color: var(--sklearn-color-unfitted-level-3);\n  color: var(--sklearn-color-background);\n  text-decoration: none;\n}\n\ndiv.sk-estimator.fitted:hover .sk-estimator-doc-link.fitted:hover,\n.sk-estimator-doc-link.fitted:hover,\ndiv.sk-label-container:hover .sk-estimator-doc-link.fitted:hover,\n.sk-estimator-doc-link.fitted:hover {\n  /* fitted */\n  background-color: var(--sklearn-color-fitted-level-3);\n  color: var(--sklearn-color-background);\n  text-decoration: none;\n}\n\n/* Span, style for the box shown on hovering the info icon */\n.sk-estimator-doc-link span {\n  display: none;\n  z-index: 9999;\n  position: relative;\n  font-weight: normal;\n  right: .2ex;\n  padding: .5ex;\n  margin: .5ex;\n  width: min-content;\n  min-width: 20ex;\n  max-width: 50ex;\n  color: var(--sklearn-color-text);\n  box-shadow: 2pt 2pt 4pt #999;\n  /* unfitted */\n  background: var(--sklearn-color-unfitted-level-0);\n  border: .5pt solid var(--sklearn-color-unfitted-level-3);\n}\n\n.sk-estimator-doc-link.fitted span {\n  /* fitted */\n  background: var(--sklearn-color-fitted-level-0);\n  border: var(--sklearn-color-fitted-level-3);\n}\n\n.sk-estimator-doc-link:hover span {\n  display: block;\n}\n\n/* \"?\"-specific style due to the `<a>` HTML tag */\n\n#sk-container-id-4 a.estimator_doc_link {\n  float: right;\n  font-size: 1rem;\n  line-height: 1em;\n  font-family: monospace;\n  background-color: var(--sklearn-color-background);\n  border-radius: 1rem;\n  height: 1rem;\n  width: 1rem;\n  text-decoration: none;\n  /* unfitted */\n  color: var(--sklearn-color-unfitted-level-1);\n  border: var(--sklearn-color-unfitted-level-1) 1pt solid;\n}\n\n#sk-container-id-4 a.estimator_doc_link.fitted {\n  /* fitted */\n  border: var(--sklearn-color-fitted-level-1) 1pt solid;\n  color: var(--sklearn-color-fitted-level-1);\n}\n\n/* On hover */\n#sk-container-id-4 a.estimator_doc_link:hover {\n  /* unfitted */\n  background-color: var(--sklearn-color-unfitted-level-3);\n  color: var(--sklearn-color-background);\n  text-decoration: none;\n}\n\n#sk-container-id-4 a.estimator_doc_link.fitted:hover {\n  /* fitted */\n  background-color: var(--sklearn-color-fitted-level-3);\n}\n</style><div id=\"sk-container-id-4\" class=\"sk-top-container\"><div class=\"sk-text-repr-fallback\"><pre>GradientBoostingClassifier(learning_rate=0.05, max_depth=4, n_estimators=200,\n                           random_state=42)</pre><b>In a Jupyter environment, please rerun this cell to show the HTML representation or trust the notebook. <br />On GitHub, the HTML representation is unable to render, please try loading this page with nbviewer.org.</b></div><div class=\"sk-container\" hidden><div class=\"sk-item\"><div class=\"sk-estimator fitted sk-toggleable\"><input class=\"sk-toggleable__control sk-hidden--visually\" id=\"sk-estimator-id-4\" type=\"checkbox\" checked><label for=\"sk-estimator-id-4\" class=\"sk-toggleable__label fitted sk-toggleable__label-arrow\"><div><div>GradientBoostingClassifier</div></div><div><a class=\"sk-estimator-doc-link fitted\" rel=\"noreferrer\" target=\"_blank\" href=\"https://scikit-learn.org/1.6/modules/generated/sklearn.ensemble.GradientBoostingClassifier.html\">?<span>Documentation for GradientBoostingClassifier</span></a><span class=\"sk-estimator-doc-link fitted\">i<span>Fitted</span></span></div></label><div class=\"sk-toggleable__content fitted\"><pre>GradientBoostingClassifier(learning_rate=0.05, max_depth=4, n_estimators=200,\n                           random_state=42)</pre></div> </div></div></div></div>"
     },
     "execution_count": 103,
     "metadata": {},
     "output_type": "execute_result"
    }
   ],
   "source": [
    "# Cell 4 — Weighted Model Training\n",
    "from sklearn.ensemble import GradientBoostingClassifier\n",
    "\n",
    "f1 = GradientBoostingClassifier(n_estimators=200, learning_rate=0.05,\n",
    "                                max_depth=4, random_state=42)\n",
    "f0 = GradientBoostingClassifier(n_estimators=200, learning_rate=0.05,\n",
    "                                max_depth=4, random_state=42)\n",
    "\n",
    "# Weighted fitting\n",
    "f1.fit(X[t == 1], y[t == 1], sample_weight=w_treat[t == 1])\n",
    "f0.fit(X[t == 0], y[t == 0], sample_weight=w_ctrl[t == 0])"
   ],
   "metadata": {
    "collapsed": false,
    "ExecuteTime": {
     "end_time": "2025-10-29T18:55:49.307959Z",
     "start_time": "2025-10-29T18:55:40.785292900Z"
    }
   },
   "id": "e51f89c701e1f018",
   "execution_count": 103
  },
  {
   "cell_type": "code",
   "outputs": [
    {
     "name": "stdout",
     "output_type": "stream",
     "text": [
      "🎯 f1（有押金组）模型训练准确率：0.9977\n",
      "🎯 f0（无押金组）模型训练准确率：0.7834\n",
      "平均模型准确率：0.8906\n"
     ]
    }
   ],
   "source": [
    "# Cell 4.1 — 模型正确率评估\n",
    "from sklearn.metrics import accuracy_score\n",
    "\n",
    "# 各自分组上的预测\n",
    "pred1 = f1.predict(X[t == 1])\n",
    "pred0 = f0.predict(X[t == 0])\n",
    "\n",
    "acc1 = accuracy_score(y[t == 1], pred1)\n",
    "acc0 = accuracy_score(y[t == 0], pred0)\n",
    "\n",
    "print(f\"🎯 f1（有押金组）模型训练准确率：{acc1:.4f}\")\n",
    "print(f\"🎯 f0（无押金组）模型训练准确率：{acc0:.4f}\")\n",
    "print(f\"平均模型准确率：{(acc1 + acc0) / 2:.4f}\")\n"
   ],
   "metadata": {
    "collapsed": false,
    "ExecuteTime": {
     "end_time": "2025-10-29T18:55:49.524298400Z",
     "start_time": "2025-10-29T18:55:49.309959300Z"
    }
   },
   "id": "72787946eb261914",
   "execution_count": 104
  },
  {
   "cell_type": "code",
   "outputs": [
    {
     "data": {
      "text/plain": "              uplift\ncount  119390.000000\nmean        0.556386\nstd         0.297094\nmin        -0.857674\n25%         0.355203\n50%         0.671476\n75%         0.775299\nmax         0.989725",
      "text/html": "<div>\n<style scoped>\n    .dataframe tbody tr th:only-of-type {\n        vertical-align: middle;\n    }\n\n    .dataframe tbody tr th {\n        vertical-align: top;\n    }\n\n    .dataframe thead th {\n        text-align: right;\n    }\n</style>\n<table border=\"1\" class=\"dataframe\">\n  <thead>\n    <tr style=\"text-align: right;\">\n      <th></th>\n      <th>uplift</th>\n    </tr>\n  </thead>\n  <tbody>\n    <tr>\n      <th>count</th>\n      <td>119390.000000</td>\n    </tr>\n    <tr>\n      <th>mean</th>\n      <td>0.556386</td>\n    </tr>\n    <tr>\n      <th>std</th>\n      <td>0.297094</td>\n    </tr>\n    <tr>\n      <th>min</th>\n      <td>-0.857674</td>\n    </tr>\n    <tr>\n      <th>25%</th>\n      <td>0.355203</td>\n    </tr>\n    <tr>\n      <th>50%</th>\n      <td>0.671476</td>\n    </tr>\n    <tr>\n      <th>75%</th>\n      <td>0.775299</td>\n    </tr>\n    <tr>\n      <th>max</th>\n      <td>0.989725</td>\n    </tr>\n  </tbody>\n</table>\n</div>"
     },
     "execution_count": 92,
     "metadata": {},
     "output_type": "execute_result"
    }
   ],
   "source": [
    "# Cell 5 — 个体 uplift\n",
    "p1 = f1.predict_proba(X)[:, 1]\n",
    "p0 = f0.predict_proba(X)[:, 1]\n",
    "uplift = p1 - p0\n",
    "\n",
    "df_ab[\"uplift\"] = uplift\n",
    "df_ab[[\"uplift\"]].describe()\n"
   ],
   "metadata": {
    "collapsed": false,
    "ExecuteTime": {
     "end_time": "2025-10-29T18:45:18.972052400Z",
     "start_time": "2025-10-29T18:45:18.551195200Z"
    }
   },
   "id": "70502a32cc6b33b0",
   "execution_count": 92
  },
  {
   "cell_type": "code",
   "outputs": [
    {
     "data": {
      "text/plain": "(111340, 119390)"
     },
     "execution_count": 93,
     "metadata": {},
     "output_type": "execute_result"
    }
   ],
   "source": [
    "sum(df_ab['uplift'] > 0), len(df_ab)"
   ],
   "metadata": {
    "collapsed": false,
    "ExecuteTime": {
     "end_time": "2025-10-29T18:45:19.003793900Z",
     "start_time": "2025-10-29T18:45:18.974592900Z"
    }
   },
   "id": "a04e38208d0d0a2a",
   "execution_count": 93
  },
  {
   "cell_type": "markdown",
   "source": [
    "## 💡 押金高敏感客户，反而本身的取消率低。\n",
    "\n",
    "### 🎯 策略：对于押金高敏感用户，在他们完成预订后——\n",
    "\n",
    "* **不应再推送更优惠或替代性产品**。\n",
    "  这类用户在心理上对押金高度敏感、风险厌恶，\n",
    "  一旦预订后又接收到新的“更划算选择”，会产生**认知失调与选择后悔**，\n",
    "  从而陷入反复比较 → 修改 → 取消的循环。\n",
    "\n",
    "* **建议采取“静默成交”策略**：\n",
    "  在他们完成下单后，不再触发追加优惠或交叉推荐，\n",
    "  让其保持决策的封闭性与心理确定性，降低取消率。\n",
    "\n",
    "* **押金政策可适度宽松或豁免**：\n",
    "  因为模型显示他们即便不被强制约束，也极少取消。\n",
    "  相反，免押金反而提升他们的信任度与满意度。\n",
    "  对于高价值会员或提前规划型客户，可尝试「免押金—忠诚返还」等机制。\n",
    "\n",
    "\n",
    "### 💼 对比策略：针对押金低敏感用户\n",
    "\n",
    "* **这类人群“押金无感”，却更容易临时变动**。\n",
    "  他们的高取消率不是因为押金存在，而是因为**预订动机弱、计划随意**。\n",
    "  因此，应：\n",
    "\n",
    "  * 收取全额押金或不可退预订；\n",
    "  * 或采用「押金抵用消费」「押金锁定优惠」的金融型激励；\n",
    "  * 明确取消成本，引导他们做出稳定承诺。\n",
    "\n"
   ],
   "metadata": {
    "collapsed": false
   },
   "id": "728cb0cb3e934dc"
  },
  {
   "cell_type": "code",
   "outputs": [
    {
     "data": {
      "text/plain": "<Figure size 1200x500 with 1 Axes>",
      "image/png": "[encoded data removed]"
     },
     "metadata": {},
     "output_type": "display_data"
    }
   ],
   "source": [
    "# Cell 6 — uplift 排序分组\n",
    "df_ab[\"uplift_decile\"] = pd.qcut(df_ab[\"uplift\"], 20, labels=False)\n",
    "uplift_summary = df_ab.groupby(\"uplift_decile\")[\"target\"].mean()\n",
    "\n",
    "plt.figure(figsize=(12, 5))\n",
    "uplift_summary.plot(kind=\"bar\", color=\"#77aadd\")\n",
    "plt.title(\"押金敏感度与取消率趋势图\")\n",
    "plt.xlabel(\"对于是否有押金的敏感程度\")\n",
    "plt.ylabel(\"取消率\")\n",
    "plt.show()\n"
   ],
   "metadata": {
    "collapsed": false,
    "ExecuteTime": {
     "end_time": "2025-10-29T18:45:19.113968Z",
     "start_time": "2025-10-29T18:45:18.989795600Z"
    }
   },
   "id": "88dd84a7e286149b",
   "execution_count": 94
  },
  {
   "cell_type": "code",
   "outputs": [
    {
     "name": "stdout",
     "output_type": "stream",
     "text": [
      "uplift_decile\n",
      "0     0.218247\n",
      "1     0.724338\n",
      "2     0.549158\n",
      "3     0.511803\n",
      "4     0.609573\n",
      "5     0.541731\n",
      "6     0.324858\n",
      "7     0.358131\n",
      "8     0.456272\n",
      "9     0.605225\n",
      "10    0.363717\n",
      "11    0.395597\n",
      "12    0.321351\n",
      "13    0.257614\n",
      "14    0.423244\n",
      "15    0.310333\n",
      "16    0.164595\n",
      "17    0.128018\n",
      "18    0.104463\n",
      "19    0.063151\n",
      "Name: target, dtype: float64\n"
     ]
    }
   ],
   "source": [
    "print(uplift_summary)"
   ],
   "metadata": {
    "collapsed": false,
    "ExecuteTime": {
     "end_time": "2025-10-29T18:45:19.162049Z",
     "start_time": "2025-10-29T18:45:19.115965100Z"
    }
   },
   "id": "c812d19663223645",
   "execution_count": 95
  },
  {
   "cell_type": "code",
   "outputs": [
    {
     "name": "stdout",
     "output_type": "stream",
     "text": [
      "High-uplift baseline cancel prob: 0.1305792563378464\n",
      "Low-uplift baseline cancel prob: 0.5131215846846816\n"
     ]
    }
   ],
   "source": [
    "# 验证：uplift高群体的 baseline 风险\n",
    "df_ab[\"baseline_p0\"] = f0.predict_proba(X)[:, 1]\n",
    "\n",
    "high_uplift = df_ab[df_ab[\"uplift_decile\"] >= 15]\n",
    "low_uplift = df_ab[df_ab[\"uplift_decile\"] <= 5]\n",
    "\n",
    "print(\"High-uplift baseline cancel prob:\", high_uplift[\"baseline_p0\"].mean())\n",
    "print(\"Low-uplift baseline cancel prob:\", low_uplift[\"baseline_p0\"].mean())\n"
   ],
   "metadata": {
    "collapsed": false,
    "ExecuteTime": {
     "end_time": "2025-10-29T18:45:19.364085300Z",
     "start_time": "2025-10-29T18:45:19.136300700Z"
    }
   },
   "id": "13abb5c81bff5a46",
   "execution_count": 96
  },
  {
   "cell_type": "markdown",
   "source": [
    "💡 Empirical Finding\n",
    "The uplift analysis reveals a strong inverse relationship between deposit sensitivity and baseline cancellation probability.\n",
    "Customers predicted to be most affected by deposits (“high-uplift”) actually show the lowest observed cancellation rates.\n",
    "\n",
    "🎯 Business Insight\n",
    "\n",
    "Require deposits from low-sensitivity customers (they cancel more).\n",
    "\n",
    "Waive deposits for high-sensitivity customers (they’re stable but dislike friction).\n",
    "\n",
    "After high-sensitivity users book, avoid post-booking offers—they’re prone to overthinking, which can increase cancellation.\n",
    "\n",
    "🔍 Interpretation\n",
    "Deposit mechanisms serve as a selection filter, not a deterrent.\n",
    "They separate stable, rational customers from flexible, impulsive ones."
   ],
   "metadata": {
    "collapsed": false
   },
   "id": "7368faa8cefc5dec"
  },
  {
   "cell_type": "markdown",
   "source": [
    "## 1-12月中取消月份概率最高的"
   ],
   "metadata": {
    "collapsed": false
   },
   "id": "18cf6dd923fcd201"
  },
  {
   "cell_type": "code",
   "outputs": [
    {
     "name": "stdout",
     "output_type": "stream",
     "text": [
      "每月取消率统计：\n"
     ]
    },
    {
     "data": {
      "text/plain": "           total  canceled  cancel_rate\nmonth_num                              \n6          10939      4535     0.414572\n4          11089      4524     0.407972\n5          11791      4677     0.396658\n9          10508      4116     0.391702\n10         11160      4246     0.380466\n8          13877      5239     0.377531\n7          12661      4742     0.374536\n12          6780      2371     0.349705\n2           8068      2696     0.334160\n3           9794      3149     0.321523\n11          6794      2122     0.312334\n1           5929      1807     0.304773",
      "text/html": "<div>\n<style scoped>\n    .dataframe tbody tr th:only-of-type {\n        vertical-align: middle;\n    }\n\n    .dataframe tbody tr th {\n        vertical-align: top;\n    }\n\n    .dataframe thead th {\n        text-align: right;\n    }\n</style>\n<table border=\"1\" class=\"dataframe\">\n  <thead>\n    <tr style=\"text-align: right;\">\n      <th></th>\n      <th>total</th>\n      <th>canceled</th>\n      <th>cancel_rate</th>\n    </tr>\n    <tr>\n      <th>month_num</th>\n      <th></th>\n      <th></th>\n      <th></th>\n    </tr>\n  </thead>\n  <tbody>\n    <tr>\n      <th>6</th>\n      <td>10939</td>\n      <td>4535</td>\n      <td>0.414572</td>\n    </tr>\n    <tr>\n      <th>4</th>\n      <td>11089</td>\n      <td>4524</td>\n      <td>0.407972</td>\n    </tr>\n    <tr>\n      <th>5</th>\n      <td>11791</td>\n      <td>4677</td>\n      <td>0.396658</td>\n    </tr>\n    <tr>\n      <th>9</th>\n      <td>10508</td>\n      <td>4116</td>\n      <td>0.391702</td>\n    </tr>\n    <tr>\n      <th>10</th>\n      <td>11160</td>\n      <td>4246</td>\n      <td>0.380466</td>\n    </tr>\n    <tr>\n      <th>8</th>\n      <td>13877</td>\n      <td>5239</td>\n      <td>0.377531</td>\n    </tr>\n    <tr>\n      <th>7</th>\n      <td>12661</td>\n      <td>4742</td>\n      <td>0.374536</td>\n    </tr>\n    <tr>\n      <th>12</th>\n      <td>6780</td>\n      <td>2371</td>\n      <td>0.349705</td>\n    </tr>\n    <tr>\n      <th>2</th>\n      <td>8068</td>\n      <td>2696</td>\n      <td>0.334160</td>\n    </tr>\n    <tr>\n      <th>3</th>\n      <td>9794</td>\n      <td>3149</td>\n      <td>0.321523</td>\n    </tr>\n    <tr>\n      <th>11</th>\n      <td>6794</td>\n      <td>2122</td>\n      <td>0.312334</td>\n    </tr>\n    <tr>\n      <th>1</th>\n      <td>5929</td>\n      <td>1807</td>\n      <td>0.304773</td>\n    </tr>\n  </tbody>\n</table>\n</div>"
     },
     "metadata": {},
     "output_type": "display_data"
    },
    {
     "data": {
      "text/plain": "<Figure size 1000x500 with 1 Axes>",
      "image/png": "[encoded data removed]"
     },
     "metadata": {},
     "output_type": "display_data"
    },
    {
     "name": "stdout",
     "output_type": "stream",
     "text": [
      "\n",
      "📅 取消率最高的月份：6 月，平均取消率：41.46%\n"
     ]
    }
   ],
   "source": [
    "# Cell 7 — 取消大月分析：1~12月取消率分布\n",
    "\n",
    "# Step 1. 提取月份与取消信息\n",
    "df_month = df_ab.copy()\n",
    "\n",
    "# arrival_date_month 是英文月份名，例如 \"January\"\n",
    "# 将其映射为月份数字\n",
    "month_map = {\n",
    "    'January': 1, 'February': 2, 'March': 3, 'April': 4,\n",
    "    'May': 5, 'June': 6, 'July': 7, 'August': 8,\n",
    "    'September': 9, 'October': 10, 'November': 11, 'December': 12\n",
    "}\n",
    "df_month[\"month_num\"] = df_month[\"arrival_date_month\"].map(month_map)\n",
    "\n",
    "# Step 2. 按月份计算取消率\n",
    "month_cancel = (\n",
    "    df_month.groupby(\"month_num\")[\"is_canceled\"]\n",
    "    .agg([\"count\", \"sum\"])\n",
    "    .rename(columns={\"count\": \"total\", \"sum\": \"canceled\"})\n",
    ")\n",
    "month_cancel[\"cancel_rate\"] = month_cancel[\"canceled\"] / month_cancel[\"total\"]\n",
    "\n",
    "# Step 3. 输出表格\n",
    "print(\"每月取消率统计：\")\n",
    "display(month_cancel.sort_values(\"cancel_rate\", ascending=False))\n",
    "\n",
    "# Step 4. 可视化\n",
    "plt.figure(figsize=(10, 5))\n",
    "sns.barplot(x=month_cancel.index, y=month_cancel[\"cancel_rate\"], palette=\"Blues_r\")\n",
    "plt.title(\"Hotel Booking Cancellation Rate by Month (1–12)\")\n",
    "plt.xlabel(\"Month\")\n",
    "plt.ylabel(\"Cancellation Rate\")\n",
    "plt.xticks(range(0, 12),\n",
    "           [\"Jan\", \"Feb\", \"Mar\", \"Apr\", \"May\", \"Jun\", \"Jul\", \"Aug\", \"Sep\", \"Oct\", \"Nov\", \"Dec\"])\n",
    "plt.show()\n",
    "\n",
    "# Step 5. 输出取消大月\n",
    "max_month = month_cancel[\"cancel_rate\"].idxmax()\n",
    "max_rate = month_cancel.loc[max_month, \"cancel_rate\"]\n",
    "print(f\"\\n📅 取消率最高的月份：{max_month} 月，平均取消率：{max_rate:.2%}\")\n"
   ],
   "metadata": {
    "collapsed": false,
    "ExecuteTime": {
     "end_time": "2025-10-29T18:45:19.574183600Z",
     "start_time": "2025-10-29T18:45:19.370081900Z"
    }
   },
   "id": "d6847b2a77baebb3",
   "execution_count": 97
  },
  {
   "cell_type": "code",
   "outputs": [
    {
     "name": "stderr",
     "output_type": "stream",
     "text": [
      "[NbConvertApp] Converting notebook uplift_modelling.ipynb to html\n",
      "[NbConvertApp] WARNING | Alternative text is missing on 2 image(s).\n",
      "[NbConvertApp] Writing 419145 bytes to uplift_modelling.html\n"
     ]
    }
   ],
   "source": [
    "!jupyter nbconvert --to html uplift_modelling.ipynb"
   ],
   "metadata": {
    "collapsed": false,
    "ExecuteTime": {
     "end_time": "2025-10-29T18:56:33.944388300Z",
     "start_time": "2025-10-29T18:56:31.405029600Z"
    }
   },
   "id": "ab4f194d9b719c16",
   "execution_count": 106
  }
 ],
 "metadata": {
  "kernelspec": {
   "display_name": "Python 3",
   "language": "python",
   "name": "python3"
  },
  "language_info": {
   "codemirror_mode": {
    "name": "ipython",
    "version": 2
   },
   "file_extension": ".py",
   "mimetype": "text/x-python",
   "name": "python",
   "nbconvert_exporter": "python",
   "pygments_lexer": "ipython2",
   "version": "2.7.6"
  }
 },
 "nbformat": 4,
 "nbformat_minor": 5
}
